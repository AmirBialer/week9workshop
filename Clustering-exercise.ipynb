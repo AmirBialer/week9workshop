{
 "cells": [
  {
   "cell_type": "code",
   "execution_count": 1,
   "metadata": {},
   "outputs": [],
   "source": [
    "# imports\n",
    "import pandas as pd\n",
    "import matplotlib.pyplot as plt\n",
    "import seaborn as sns\n",
    "import numpy as np\n",
    "from scipy.spatial import distance  # distance metrics"
   ]
  },
  {
   "cell_type": "markdown",
   "metadata": {},
   "source": [
    "## Course characterization\n",
    "\n",
    "4th year students wanted to help 1st year students in the process of choosing elective courses. To do so, they gathered data on two parameters for 20 courses: interest level, and difficulty level. Both parameters are measured on a scale from 1-10, from easy to hard. The students wants to divide the courses to three groups, so  courses which are similar in both parameters would be in the same group.\n",
    "<br>\n",
    "The following graph shows all courses. Each dot is a course, the x axis is the difficulty level and the y axis is the interest level of the course."
   ]
  },
  {
   "cell_type": "code",
   "execution_count": 9,
   "metadata": {},
   "outputs": [
    {
     "data": {
      "image/png": "[encoded data removed]",
      "text/plain": [
       "<Figure size 432x288 with 1 Axes>"
      ]
     },
     "metadata": {
      "needs_background": "light"
     },
     "output_type": "display_data"
    }
   ],
   "source": [
    "# read data\n",
    "clustering_df = pd.read_csv('clustering_example_scale.csv')\n",
    "# plot courses by difficulty and interest levels - each point is represents a course\n",
    "ax = sns.scatterplot(x='difficulty_level', y='interest_level', data=clustering_df)  "
   ]
  },
  {
   "cell_type": "markdown",
   "metadata": {},
   "source": [
    "The students chose to use clustering methods that divide the data into groups.\n",
    "Nicole and Jennifer used two different clustering methods and got two different group arangements, as shown in the graph below.\n",
    "Like before, each dot represents a course. The colors represent different clusters. for example the orange group, represents one cluster."
   ]
  },
  {
   "cell_type": "code",
   "execution_count": 10,
   "metadata": {
    "scrolled": true
   },
   "outputs": [
    {
     "data": {
      "image/png": "[encoded data removed]",
      "text/plain": [
       "<Figure size 474.875x216 with 2 Axes>"
      ]
     },
     "metadata": {
      "needs_background": "light"
     },
     "output_type": "display_data"
    }
   ],
   "source": [
    "# get data only for Nicole and Jennifer\n",
    "Nicole_Jennifer_clustering_df = clustering_df[clustering_df[\"clustering_method\"].isin(['Nicole', 'Jennifer'])]\n",
    "\n",
    "# plot the data\n",
    "g = sns.FacetGrid(Nicole_Jennifer_clustering_df, col=\"clustering_method\", hue=\"cluster\")\n",
    "g.map(plt.scatter, \"difficulty_level\", \"interest_level\")\n",
    "g.add_legend(frameon=True);"
   ]
  },
  {
   "cell_type": "markdown",
   "metadata": {},
   "source": [
    "### Exercise 1:\n",
    "\n",
    "Which cluster ensemble seems better? Nicole's or Jennifer's?\n",
    "\n",
    "Why?"
   ]
  },
  {
   "cell_type": "markdown",
   "metadata": {},
   "source": [
    "< Enter answer here >"
   ]
  },
  {
   "cell_type": "markdown",
   "metadata": {},
   "source": [
    "### Exercise 2:\n",
    "\n",
    "Come up with a scoring measure (or multiple scoring measures) for how good a cluster is. \n",
    "\n",
    "This scoring measure needs to get as input all of the dots and the cluster they belong to, and give as output a numerical value.\n",
    "\n",
    "You can come up with your own measure, or search for one on the internet. "
   ]
  },
  {
   "cell_type": "markdown",
   "metadata": {},
   "source": [
    "Describe in words this grading measure, state the measure's purpose (what makes one cluster ensamble better than a different one), and how you would compute it."
   ]
  },
  {
   "cell_type": "markdown",
   "metadata": {},
   "source": [
    "< Enter answer here >"
   ]
  },
  {
   "cell_type": "markdown",
   "metadata": {},
   "source": [
    "Now, write code to compute your grading measure and test it on Nicole's and Jennifer's cluster ensamble.\n",
    "\n",
    "You have two supporting functions at your disposal:\n",
    "- A function that returns all points that belong to a specific cluster. Given all points, a clustering method, and the name of the specific cluster.\n",
    "- A function that returns the distance between two points."
   ]
  },
  {
   "cell_type": "code",
   "execution_count": 11,
   "metadata": {},
   "outputs": [],
   "source": [
    "def get_all_points_in_cluster(clusters_df, cluster_name, clustering_method):\n",
    "    '''\n",
    "    This function gets as input a dataframe with clusters, the name of the clustering method \n",
    "    and the name of a cluster, and returns all points in that cluster as a numpy array\n",
    "    '''\n",
    "    # filter dataframe to get only points from the appropriate clustering method and appropriate cluster\n",
    "    cluster_df = clusters_df[(clusters_df['cluster'] == cluster_name) & (clusters_df['clustering_method'] == clustering_method)]\n",
    "    # get only the ranking columns\n",
    "    cluster_points = cluster_df[['difficulty_level','interest_level']]\n",
    "    # convert columns to numpy array\n",
    "    cluster_points = cluster_points.values\n",
    "    return cluster_points"
   ]
  },
  {
   "cell_type": "code",
   "execution_count": 12,
   "metadata": {},
   "outputs": [
    {
     "name": "stdout",
     "output_type": "stream",
     "text": [
      "[[1.13425738 1.2862267 ]\n",
      " [1.99519948 2.17617611]\n",
      " [2.40064391 1.61374775]\n",
      " [2.66863848 5.12427238]\n",
      " [3.1878366  4.10367405]\n",
      " [3.65565886 4.84288996]\n",
      " [3.73023531 2.61469753]]\n"
     ]
    }
   ],
   "source": [
    "# example use of 'get_all_points_in_cluster' - \n",
    "Jennifer_A_points = get_all_points_in_cluster(clustering_df,'A','Jennifer')\n",
    "print(Jennifer_A_points)"
   ]
  },
  {
   "cell_type": "code",
   "execution_count": 13,
   "metadata": {},
   "outputs": [
    {
     "name": "stdout",
     "output_type": "stream",
     "text": [
      "1.2382371569240433\n"
     ]
    }
   ],
   "source": [
    "# you can also use the 'distance.euclidean' function to get the distance between two points\n",
    "# example use of euclidean distance:\n",
    "distance_between_first_two_points = distance.euclidean(Jennifer_A_points[0], Jennifer_A_points[1])\n",
    "print(distance_between_first_two_points)"
   ]
  },
  {
   "cell_type": "markdown",
   "metadata": {},
   "source": [
    "Write your scoring measure (or multiple scoring measures) in the next cells."
   ]
  },
  {
   "cell_type": "code",
   "execution_count": 14,
   "metadata": {},
   "outputs": [],
   "source": [
    "def measure_clustering_goodness_1(clustering_df, clustering_method):\n",
    "    pass  # TODO: replace with your code"
   ]
  },
  {
   "cell_type": "code",
   "execution_count": 15,
   "metadata": {},
   "outputs": [],
   "source": [
    "def measure_clustering_goodness_2(clustering_df, clustering_method):\n",
    "    pass  # TODO: replace with your code"
   ]
  },
  {
   "cell_type": "code",
   "execution_count": 16,
   "metadata": {},
   "outputs": [],
   "source": [
    "def measure_clustering_goodness_3(clustering_df, clustering_method):\n",
    "    pass  # TODO: replace with your code"
   ]
  },
  {
   "cell_type": "markdown",
   "metadata": {},
   "source": [
    "Try your measures on Jennifer's and Nicole's clusters.\n",
    "Do the measures agree with your thoughts in Ex 1?"
   ]
  },
  {
   "cell_type": "code",
   "execution_count": 17,
   "metadata": {},
   "outputs": [
    {
     "name": "stdout",
     "output_type": "stream",
     "text": [
      "Jennifer clustering score:  None\n",
      "Nicole clustering score:  None\n"
     ]
    }
   ],
   "source": [
    "# Jennifer's clustering score\n",
    "print('Jennifer clustering score: ', measure_clustering_goodness_1(clustering_df, 'Jennifer'))\n",
    "\n",
    "# Nicole's clustering score\n",
    "print('Nicole clustering score: ', measure_clustering_goodness_1(clustering_df, 'Nicole'))"
   ]
  },
  {
   "cell_type": "code",
   "execution_count": null,
   "metadata": {},
   "outputs": [],
   "source": []
  }
 ],
 "metadata": {
  "kernelspec": {
   "display_name": "Python 3",
   "language": "python",
   "name": "python3"
  },
  "language_info": {
   "codemirror_mode": {
    "name": "ipython",
    "version": 3
   },
   "file_extension": ".py",
   "mimetype": "text/x-python",
   "name": "python",
   "nbconvert_exporter": "python",
   "pygments_lexer": "ipython3",
   "version": "3.7.6"
  }
 },
 "nbformat": 4,
 "nbformat_minor": 2
}

